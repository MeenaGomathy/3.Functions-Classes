{
 "cells": [
  {
   "cell_type": "code",
   "execution_count": 3,
   "id": "723e5df4",
   "metadata": {},
   "outputs": [],
   "source": [
    "class SubFieldsInAI():\n",
    "    def SubFields():\n",
    "        lists=[\"Machine learning\",\"Neural Network\",\"Vision\",\"Robotics\",\"Speech Processing\",\"Natural Language Processing\"]\n",
    "        print(\"Sub Fields in AI are\")\n",
    "        for temp in lists:\n",
    "            print(temp)\n"
   ]
  },
  {
   "cell_type": "code",
   "execution_count": 4,
   "id": "c9d56c85",
   "metadata": {},
   "outputs": [
    {
     "name": "stdout",
     "output_type": "stream",
     "text": [
      "Sub Fields in AI are\n",
      "Machine learning\n",
      "Neural Network\n",
      "Vision\n",
      "Robotics\n",
      "Speech Processing\n",
      "Natural Language Processing\n"
     ]
    }
   ],
   "source": [
    "SubFieldsInAI.SubFields()"
   ]
  },
  {
   "cell_type": "code",
   "execution_count": 2,
   "id": "bf86d494",
   "metadata": {},
   "outputs": [],
   "source": [
    "class OddEven():\n",
    "    def OddEven():\n",
    "        num=int(input(\"Enter the number:\"))\n",
    "        if((num%2)==0):\n",
    "            print(num,\"is Even Number\")\n",
    "            msg=\"Even Number\"\n",
    "        else:\n",
    "            print(num,\"is odd Number\")\n",
    "            msg=\"Odd Number\"\n",
    "        return msg"
   ]
  },
  {
   "cell_type": "code",
   "execution_count": 4,
   "id": "acdeaf9f",
   "metadata": {},
   "outputs": [
    {
     "name": "stdout",
     "output_type": "stream",
     "text": [
      "Enter the number:4588\n",
      "4588 is Even Number\n"
     ]
    },
    {
     "data": {
      "text/plain": [
       "'Even Number'"
      ]
     },
     "execution_count": 4,
     "metadata": {},
     "output_type": "execute_result"
    }
   ],
   "source": [
    "OddEven.OddEven()"
   ]
  },
  {
   "cell_type": "code",
   "execution_count": 9,
   "id": "6e0a8d0b",
   "metadata": {},
   "outputs": [],
   "source": [
    "class ElegibilityforMarriage():\n",
    "    def Elegibility():\n",
    "        gender=input(\"Enter the Gender:\")\n",
    "        age=int(input(\"Enter your Age:\"))\n",
    "        print(\"Your Gender:\",gender)\n",
    "        print(\"Your Age:\",age)\n",
    "        if(gender==\"male\"):\n",
    "            if(age>=25):\n",
    "                print(\"Elegible\")\n",
    "            else:\n",
    "                print(\"Not Elegible\")\n",
    "                \n",
    "        elif(gender==\"female\"):\n",
    "            if(age>=21):\n",
    "                print(\"Elegible\")\n",
    "            else:\n",
    "                print(\"Not Elegible\")\n",
    "        else:\n",
    "            print(\"Enter gender as male or female\")"
   ]
  },
  {
   "cell_type": "code",
   "execution_count": 13,
   "id": "cd2d1454",
   "metadata": {},
   "outputs": [
    {
     "name": "stdout",
     "output_type": "stream",
     "text": [
      "Enter the Gender:female\n",
      "Enter your Age:21\n",
      "Your Gender: female\n",
      "Your Age: 21\n",
      "Elegible\n"
     ]
    }
   ],
   "source": [
    "ElegibilityforMarriage.Elegibility()"
   ]
  },
  {
   "cell_type": "code",
   "execution_count": 21,
   "id": "43d53142",
   "metadata": {},
   "outputs": [],
   "source": [
    "class FindPercent():\n",
    "    def Percentage():\n",
    "        sub1=int(input(\"Enter Subject1:\"))\n",
    "        sub2=int(input(\"Enter Subject2:\"))\n",
    "        sub3=int(input(\"Enter Subject3:\"))\n",
    "        sub4=int(input(\"Enter Subject4:\"))\n",
    "        sub5=int(input(\"Enter Subject5:\"))\n",
    "        total=sub1+sub2+sub3+sub4+sub5\n",
    "        percentage=total/5\n",
    "        print(\"Your Marks are:\")\n",
    "        print(\"Subject1:\", sub1)\n",
    "        print(\"Subject2:\", sub2)\n",
    "        print(\"Subject3:\", sub3)\n",
    "        print(\"Subject4:\", sub4)\n",
    "        print(\"Subject5:\", sub5)\n",
    "        print(\"Total:\", total)\n",
    "        print(\"Percentage:\", percentage)          "
   ]
  },
  {
   "cell_type": "code",
   "execution_count": null,
   "id": "d2eabcef",
   "metadata": {},
   "outputs": [],
   "source": [
    "FindPercent.Percentage()"
   ]
  },
  {
   "cell_type": "code",
   "execution_count": 22,
   "id": "9b17eab7",
   "metadata": {},
   "outputs": [
    {
     "name": "stdout",
     "output_type": "stream",
     "text": [
      "Enter Subject1:96\n",
      "Enter Subject2:96\n",
      "Enter Subject3:97\n",
      "Enter Subject4:98\n",
      "Enter Subject5:99\n",
      "Your Marks are:\n",
      "Subject1: 96\n",
      "Subject2: 96\n",
      "Subject3: 97\n",
      "Subject4: 98\n",
      "Subject5: 99\n",
      "Total: 486\n",
      "Percentage: 97.2\n"
     ]
    }
   ],
   "source": [
    "FindPercent.Percentage()"
   ]
  },
  {
   "cell_type": "code",
   "execution_count": 25,
   "id": "324ade73",
   "metadata": {},
   "outputs": [],
   "source": [
    "class triangle():\n",
    "    def triangle():\n",
    "        h=int(input(\"Enter Height:\"))\n",
    "        b=int(input(\"Enter Breadth:\"))\n",
    "        area=(h*b)/2\n",
    "        print(\"Height:\", h)\n",
    "        print(\"Breadth:\",b)\n",
    "        print(\"Area of the triangle:\",area)\n",
    "        \n",
    "        h1=int(input(\"Enter Height1:\"))\n",
    "        h2=int(input(\"Enter Height2:\"))\n",
    "        b1=int(input(\"Enter Breadth:\"))\n",
    "        perimeter=h1+h2+b1\n",
    "        print(\"Height1:\", h1)\n",
    "        print(\"Height2:\", h2)\n",
    "        print(\"Breadth:\",b1)\n",
    "        print(\"Perimeter of the triangle:\",perimeter)"
   ]
  },
  {
   "cell_type": "code",
   "execution_count": 26,
   "id": "f1471e35",
   "metadata": {},
   "outputs": [
    {
     "name": "stdout",
     "output_type": "stream",
     "text": [
      "Enter Height:32\n",
      "Enter Breadth:34\n",
      "Height: 32\n",
      "Breadth: 34\n",
      "Area of the triangle: 544.0\n",
      "Enter Height1:2\n",
      "Enter Height2:4\n",
      "Enter Breadth:4\n",
      "Height1: 2\n",
      "Height2: 4\n",
      "Breadth: 4\n",
      "Perimeter of the triangle: 10\n"
     ]
    }
   ],
   "source": [
    "triangle.triangle()"
   ]
  },
  {
   "cell_type": "code",
   "execution_count": null,
   "id": "5c37631b",
   "metadata": {},
   "outputs": [],
   "source": []
  }
 ],
 "metadata": {
  "kernelspec": {
   "display_name": "Python 3 (ipykernel)",
   "language": "python",
   "name": "python3"
  },
  "language_info": {
   "codemirror_mode": {
    "name": "ipython",
    "version": 3
   },
   "file_extension": ".py",
   "mimetype": "text/x-python",
   "name": "python",
   "nbconvert_exporter": "python",
   "pygments_lexer": "ipython3",
   "version": "3.11.5"
  }
 },
 "nbformat": 4,
 "nbformat_minor": 5
}
